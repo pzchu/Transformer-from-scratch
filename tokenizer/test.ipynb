{
 "cells": [
  {
   "cell_type": "markdown",
   "metadata": {},
   "source": [
    "### bert分词"
   ]
  },
  {
   "cell_type": "code",
   "execution_count": 2,
   "metadata": {},
   "outputs": [
    {
     "name": "stdout",
     "output_type": "stream",
     "text": [
      "['伊', '[UNK]', '[UNK]', '[UNK]', '[UNK]', '[UNK]', '[UNK]']\n",
      "{'input_ids': [101, 1762, 100, 100, 100, 100, 100, 100, 102], 'token_type_ids': [0, 0, 0, 0, 0, 0, 0, 0, 0], 'attention_mask': [1, 1, 1, 1, 1, 1, 1, 1, 1]}\n"
     ]
    }
   ],
   "source": [
    "from transformers import BertTokenizer, BertModel\n",
    "\n",
    "path = './bert-base-uncased/'\n",
    "\n",
    "tokenizer_bert = BertTokenizer.from_pretrained(path)\n",
    "text = \"伊朗再打以色列\"\n",
    "print(tokenizer_bert.tokenize(text))\n",
    "print(tokenizer_bert(text))"
   ]
  },
  {
   "cell_type": "markdown",
   "metadata": {},
   "source": [
    "### OpenAI tiktoken 分词"
   ]
  },
  {
   "cell_type": "code",
   "execution_count": 25,
   "metadata": {},
   "outputs": [
    {
     "name": "stdout",
     "output_type": "stream",
     "text": [
      "[17885, 232, 4916, 245, 88356, 76537, 23897, 39135, 32218]\n"
     ]
    },
    {
     "data": {
      "text/plain": [
       "([b'\\xe4\\xbc',\n",
       "  b'\\x8a',\n",
       "  b'\\xe6\\x9c',\n",
       "  b'\\x97',\n",
       "  b'\\xe5\\x86\\x8d',\n",
       "  b'\\xe6\\x89\\x93',\n",
       "  b'\\xe4\\xbb\\xa5',\n",
       "  b'\\xe8\\x89\\xb2',\n",
       "  b'\\xe5\\x88\\x97'],\n",
       " [b'\\xe4\\xbc\\x8a',\n",
       "  b'\\xe6\\x9c\\x97',\n",
       "  b'\\xe5\\x86\\x8d',\n",
       "  b'\\xe6\\x89\\x93',\n",
       "  b'\\xe4\\xbb\\xa5',\n",
       "  b'\\xe8\\x89\\xb2',\n",
       "  b'\\xe5\\x88\\x97'])"
      ]
     },
     "execution_count": 25,
     "metadata": {},
     "output_type": "execute_result"
    }
   ],
   "source": [
    "import tiktoken\n",
    "enc = tiktoken.get_encoding(\"cl100k_base\")\n",
    "text = '伊朗再打以色列'\n",
    "res = enc.encode(text)\n",
    "print(res)\n",
    "b1 = [enc.decode_single_token_bytes(i) for i in res]\n",
    "b2 = [i.encode('utf-8') for i in text]\n",
    "[enc.decode([i]) for i in res]\n",
    "b1, b2"
   ]
  },
  {
   "cell_type": "markdown",
   "metadata": {},
   "source": [
    "### ChatGLM分词"
   ]
  },
  {
   "cell_type": "code",
   "execution_count": 20,
   "metadata": {},
   "outputs": [
    {
     "name": "stdout",
     "output_type": "stream",
     "text": [
      "['▁', '伊朗', '再', '打', '以色列']\n",
      "{'input_ids': [64790, 64792, 30910, 36372, 54860, 54819, 36415], 'attention_mask': [1, 1, 1, 1, 1, 1, 1], 'position_ids': [0, 1, 2, 3, 4, 5, 6]}\n"
     ]
    }
   ],
   "source": [
    "from transformers import AutoTokenizer\n",
    "path = './chatglm2-6b/'\n",
    "tokenizer_glm = AutoTokenizer.from_pretrained(path,trust_remote_code=True)\n",
    "text = '伊朗再打以色列'\n",
    "print(tokenizer_glm.tokenize(text))\n",
    "print(tokenizer_glm(text))"
   ]
  },
  {
   "cell_type": "markdown",
   "metadata": {},
   "source": [
    "## OpenAI官方分词工具\n",
    "https://platform.openai.com/tokenizer  "
   ]
  },
  {
   "cell_type": "markdown",
   "metadata": {},
   "source": [
    "### Embedding"
   ]
  },
  {
   "cell_type": "code",
   "execution_count": 26,
   "metadata": {},
   "outputs": [
    {
     "data": {
      "text/plain": [
       "torch.Size([64])"
      ]
     },
     "execution_count": 26,
     "metadata": {},
     "output_type": "execute_result"
    }
   ],
   "source": [
    "import torch\n",
    "embedding = torch.nn.Embedding(1000,64)\n",
    "t1 = torch.tensor(999)#代表一个token,\n",
    "embedding(t1).shape"
   ]
  },
  {
   "cell_type": "markdown",
   "metadata": {},
   "source": [
    "$$\n",
    "PE_{(pos,2i)} = sin(pos/10000^{\\frac{2i}{d_{model}}})\n",
    "$$\n",
    "$$\n",
    "PE_{(pos,2i+1)} = cos(pos/10000^{\\frac{2i}{d_{model}}})\n",
    "$$"
   ]
  },
  {
   "cell_type": "markdown",
   "metadata": {},
   "source": [
    "### GELU\n"
   ]
  },
  {
   "cell_type": "code",
   "execution_count": 18,
   "metadata": {},
   "outputs": [
    {
     "data": {
      "image/png": "[encoded data removed]",
      "text/plain": [
       "<Figure size 432x288 with 1 Axes>"
      ]
     },
     "metadata": {
      "needs_background": "light"
     },
     "output_type": "display_data"
    },
    {
     "data": {
      "text/plain": [
       "<sympy.plotting.plot.Plot at 0x22b73860f10>"
      ]
     },
     "execution_count": 18,
     "metadata": {},
     "output_type": "execute_result"
    }
   ],
   "source": [
    "import sympy\n",
    "x = sympy.symbols('x')\n",
    "gelu =  0.5 * x * (1.0 + sympy.tanh(sympy.sqrt(2.0 / sympy.pi) * (x + 0.044715 * x**3)))\n",
    "sympy.plot(gelu)"
   ]
  },
  {
   "cell_type": "markdown",
   "metadata": {},
   "source": [
    "### 带T的softmax"
   ]
  },
  {
   "cell_type": "code",
   "execution_count": 7,
   "metadata": {},
   "outputs": [
    {
     "name": "stderr",
     "output_type": "stream",
     "text": [
      "<ipython-input-7-683882d1f293>:3: UserWarning: Implicit dimension choice for softmax has been deprecated. Change the call to include dim=X as an argument.\n",
      "  y1 = torch.nn.functional.softmax(t)\n",
      "<ipython-input-7-683882d1f293>:4: UserWarning: Implicit dimension choice for softmax has been deprecated. Change the call to include dim=X as an argument.\n",
      "  y2 = torch.nn.functional.softmax(t/0.5)\n",
      "<ipython-input-7-683882d1f293>:5: UserWarning: Implicit dimension choice for softmax has been deprecated. Change the call to include dim=X as an argument.\n",
      "  y3 = torch.nn.functional.softmax(t/2)\n"
     ]
    },
    {
     "data": {
      "text/plain": [
       "(tensor([0.1761, 0.1068, 0.6462, 0.0709]),\n",
       " tensor([0.0667, 0.0245, 0.8980, 0.0108]),\n",
       " tensor([0.2310, 0.1799, 0.4425, 0.1466]))"
      ]
     },
     "execution_count": 7,
     "metadata": {},
     "output_type": "execute_result"
    }
   ],
   "source": [
    "import torch\n",
    "t = torch.tensor([1.0,0.5,2.3,0.09])\n",
    "y1 = torch.nn.functional.softmax(t)\n",
    "y2 = torch.nn.functional.softmax(t/0.5)\n",
    "y3 = torch.nn.functional.softmax(t/2)\n",
    "y1,y2,y3"
   ]
  }
 ],
 "metadata": {
  "kernelspec": {
   "display_name": "ner",
   "language": "python",
   "name": "python3"
  },
  "language_info": {
   "codemirror_mode": {
    "name": "ipython",
    "version": 3
   },
   "file_extension": ".py",
   "mimetype": "text/x-python",
   "name": "python",
   "nbconvert_exporter": "python",
   "pygments_lexer": "ipython3",
   "version": "3.8.8"
  }
 },
 "nbformat": 4,
 "nbformat_minor": 2
}
